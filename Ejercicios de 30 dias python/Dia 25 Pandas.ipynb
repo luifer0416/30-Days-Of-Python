{
 "cells": [
  {
   "cell_type": "code",
   "execution_count": 37,
   "id": "84a26445-4797-4da1-afe1-b0387d577851",
   "metadata": {},
   "outputs": [],
   "source": [
    "import pandas as pd\n",
    "import numpy as np\n",
    "import re"
   ]
  },
  {
   "cell_type": "code",
   "execution_count": null,
   "id": "465144f8-29db-4cd9-8735-ddbb402c183b",
   "metadata": {},
   "outputs": [],
   "source": [
    "df = pd.read_csv('./data/hacker_news.csv')\n"
   ]
  },
  {
   "cell_type": "code",
   "execution_count": 35,
   "id": "2dc2c04f-7db3-4bbe-a126-be1184e49c27",
   "metadata": {},
   "outputs": [
    {
     "name": "stdout",
     "output_type": "stream",
     "text": [
      "         id                                              title  \\\n",
      "0  12224879                          Interactive Dynamic Video   \n",
      "1  11964716  Florida DJs May Face Felony for April Fools' W...   \n",
      "2  11919867       Technology ventures: From Idea to Enterprise   \n",
      "3  10301696  Note by Note: The Making of Steinway L1037 (2007)   \n",
      "4  10482257  Title II kills investment? Comcast and other I...   \n",
      "\n",
      "                                                 url  num_points  \\\n",
      "0            http://www.interactivedynamicvideo.com/         386   \n",
      "1  http://www.thewire.com/entertainment/2013/04/f...           2   \n",
      "2  https://www.amazon.com/Technology-Ventures-Ent...           3   \n",
      "3  http://www.nytimes.com/2007/11/07/movies/07ste...           8   \n",
      "4  http://arstechnica.com/business/2015/10/comcas...          53   \n",
      "\n",
      "   num_comments      author       created_at  \n",
      "0            52    ne0phyte   8/4/2016 11:52  \n",
      "1             1    vezycash  6/23/2016 22:20  \n",
      "2             1     hswarna   6/17/2016 0:01  \n",
      "3             2  walterbell   9/30/2015 4:12  \n",
      "4            22      Deinos  10/31/2015 9:48  \n",
      "             id                                              title  \\\n",
      "20094  12379592  How Purism Avoids Intels Active Management Tec...   \n",
      "20095  10339284          YC Application Translated and Broken Down   \n",
      "20096  10824382  Microkernels are slow and Elvis didn't do no d...   \n",
      "20097  10739875                      How Product Hunt really works   \n",
      "20098  11680777  RoboBrowser: Your friendly neighborhood web sc...   \n",
      "\n",
      "                                                     url  num_points  \\\n",
      "20094  https://puri.sm/philosophy/how-purism-avoids-i...          10   \n",
      "20095  https://medium.com/@zreitano/the-yc-applicatio...           4   \n",
      "20096  http://blog.darknedgy.net/technology/2016/01/0...         169   \n",
      "20097  https://medium.com/@benjiwheeler/how-product-h...         695   \n",
      "20098              https://github.com/jmcarp/robobrowser         182   \n",
      "\n",
      "       num_comments         author        created_at  \n",
      "20094             6  AdmiralAsshat    8/29/2016 2:22  \n",
      "20095             1       zreitano   10/6/2015 14:57  \n",
      "20096           132    vezzy-fnord     1/2/2016 0:49  \n",
      "20097           222          brw12  12/15/2015 19:32  \n",
      "20098            58      pmoriarty    5/12/2016 1:43  \n"
     ]
    }
   ],
   "source": [
    "#First 5 rows and last 5 rows\n",
    "print(df.head())\n",
    "print(df.tail())"
   ]
  },
  {
   "cell_type": "code",
   "execution_count": null,
   "id": "91af78ea-56e1-4c2a-92f6-33d2ecbb60fe",
   "metadata": {},
   "outputs": [],
   "source": [
    "title=df['title']\n",
    "title"
   ]
  },
  {
   "cell_type": "code",
   "execution_count": 21,
   "id": "01364411-cf70-4f33-8207-0480440c36be",
   "metadata": {},
   "outputs": [
    {
     "data": {
      "text/plain": [
       "(20099, 7)"
      ]
     },
     "execution_count": 21,
     "metadata": {},
     "output_type": "execute_result"
    }
   ],
   "source": [
    "df.shape"
   ]
  },
  {
   "cell_type": "code",
   "execution_count": 23,
   "id": "1b0c9b28-3a33-448b-a299-91c5ce3c5058",
   "metadata": {},
   "outputs": [
    {
     "data": {
      "text/plain": [
       "Index(['id', 'title', 'url', 'num_points', 'num_comments', 'author',\n",
       "       'created_at'],\n",
       "      dtype='object')"
      ]
     },
     "execution_count": 23,
     "metadata": {},
     "output_type": "execute_result"
    }
   ],
   "source": [
    "df.columns"
   ]
  },
  {
   "cell_type": "code",
   "execution_count": 55,
   "id": "a647a0bc-13dd-46ca-ab00-945be6af94e1",
   "metadata": {},
   "outputs": [
    {
     "data": {
      "text/plain": [
       "(160, 7)"
      ]
     },
     "execution_count": 55,
     "metadata": {},
     "output_type": "execute_result"
    }
   ],
   "source": [
    "filtered_p=df[df[\"title\"].str.contains(r'Python',case=False)]\n",
    "type(filtered_p)\n",
    "filtered_p.shape"
   ]
  },
  {
   "cell_type": "code",
   "execution_count": 57,
   "id": "58ebd841-206c-4827-aa77-d27dc7f61257",
   "metadata": {},
   "outputs": [
    {
     "data": {
      "text/plain": [
       "(170, 7)"
      ]
     },
     "execution_count": 57,
     "metadata": {},
     "output_type": "execute_result"
    }
   ],
   "source": [
    "filtered_j=df[df[\"title\"].str.contains(r'Javascript',case=False)]\n",
    "type(filtered_j)\n",
    "filtered_j.shape"
   ]
  },
  {
   "cell_type": "code",
   "execution_count": 59,
   "id": "14535b6e-e4d1-4902-86a5-efb2e11a957a",
   "metadata": {},
   "outputs": [
    {
     "name": "stdout",
     "output_type": "stream",
     "text": [
      "                 id    num_points  num_comments\n",
      "count  2.009900e+04  20099.000000  20099.000000\n",
      "mean   1.131755e+07     50.296632     24.803025\n",
      "std    6.964531e+05    107.110322     56.108639\n",
      "min    1.017691e+07      1.000000      1.000000\n",
      "25%    1.070172e+07      3.000000      1.000000\n",
      "50%    1.128452e+07      9.000000      3.000000\n",
      "75%    1.192613e+07     54.000000     21.000000\n",
      "max    1.257898e+07   2553.000000   1733.000000\n"
     ]
    }
   ],
   "source": [
    "print(df.describe()) "
   ]
  },
  {
   "cell_type": "code",
   "execution_count": 61,
   "id": "75532b57-1d35-46c3-b0ac-fe0aba2d079f",
   "metadata": {},
   "outputs": [
    {
     "name": "stdout",
     "output_type": "stream",
     "text": [
      "<class 'pandas.core.frame.DataFrame'>\n",
      "RangeIndex: 20099 entries, 0 to 20098\n",
      "Data columns (total 7 columns):\n",
      " #   Column        Non-Null Count  Dtype \n",
      "---  ------        --------------  ----- \n",
      " 0   id            20099 non-null  int64 \n",
      " 1   title         20099 non-null  object\n",
      " 2   url           17659 non-null  object\n",
      " 3   num_points    20099 non-null  int64 \n",
      " 4   num_comments  20099 non-null  int64 \n",
      " 5   author        20099 non-null  object\n",
      " 6   created_at    20099 non-null  object\n",
      "dtypes: int64(3), object(4)\n",
      "memory usage: 1.1+ MB\n",
      "None\n"
     ]
    }
   ],
   "source": [
    "print(df.info())"
   ]
  },
  {
   "cell_type": "code",
   "execution_count": null,
   "id": "e406f9f0-1be1-45e8-bde0-e67be7f90904",
   "metadata": {},
   "outputs": [],
   "source": []
  }
 ],
 "metadata": {
  "kernelspec": {
   "display_name": "Python 3 (ipykernel)",
   "language": "python",
   "name": "python3"
  },
  "language_info": {
   "codemirror_mode": {
    "name": "ipython",
    "version": 3
   },
   "file_extension": ".py",
   "mimetype": "text/x-python",
   "name": "python",
   "nbconvert_exporter": "python",
   "pygments_lexer": "ipython3",
   "version": "3.12.4"
  }
 },
 "nbformat": 4,
 "nbformat_minor": 5
}
